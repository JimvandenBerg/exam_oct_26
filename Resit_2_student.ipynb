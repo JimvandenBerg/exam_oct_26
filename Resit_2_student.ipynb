{
 "cells": [
  {
   "cell_type": "markdown",
   "metadata": {},
   "source": [
    "# Exam R\n",
    "Mark Klik & Misja Mikkers\n",
    "\n",
    "# Introduction\n",
    "\n",
    "Before you turn this problem in, make sure everything runs as expected. First, **restart the kernel** (in the menubar, select Kernel$\\rightarrow$Restart) and then **run all cells** (in the menubar, select Cell$\\rightarrow$Run All).\n",
    "\n",
    "Make sure you fill in any place that says `YOUR CODE HERE` or \"YOUR ANSWER HERE\", as well as your name and collaborators below:\n"
   ]
  },
  {
   "cell_type": "code",
   "execution_count": 9,
   "metadata": {},
   "outputs": [],
   "source": [
    "NAME = \"\"\n",
    "COLLABORATORS = \"\""
   ]
  },
  {
   "cell_type": "markdown",
   "metadata": {},
   "source": [
    "Fill in the cell above to provide us with your name and student number, like\n",
    "\n",
    "NAME = \"Adam Smith, #student number#\"\n",
    "\n",
    "where you replace \"#student number#\" with your ... (very good!)\n",
    "\n",
    "Unfortunately, you are not allowed to work with \"COLLABORATORS\" in this exam.\n",
    "\n",
    "## exam October 26th, 2018\n",
    "\n",
    "With this R part of the exam you can earn at max. 4 points.\n",
    "\n",
    "In the first cell of the notebook, give us your name and student number in the way indicated above.\n",
    "\n",
    "Fill in the notebook (see below for code cells and text cells that you need to fill in).\n",
    "\n",
    "If you look at the menus above (File, Edit, View etc.), there is one called \"Cell\". If you click on this, you can change the \"Cell Type\". Choose \"Code\" when you are typing python or R code. Choose \"Markdown\" when you are typing, well, markdown.\n",
    "\n",
    "When you finish the notebook, make sure that you save it with the output of your code included.\n",
    "\n",
    "Then put it on github, e.g. by dragging it onto github (see instructions below).\n",
    "\n",
    "Finally, add a link to your README file with the name of this exam: \"Exam R September 7, 2018\".\n",
    "\n",
    "# Packages\n",
    "\n",
    "You will need the following packages for this exam."
   ]
  },
  {
   "cell_type": "code",
   "execution_count": 4,
   "metadata": {},
   "outputs": [
    {
     "name": "stderr",
     "output_type": "stream",
     "text": [
      "Warning message:\n",
      "\"package 'tidyverse' was built under R version 3.4.4\"-- Attaching packages --------------------------------------- tidyverse 1.2.1 --\n",
      "v ggplot2 2.2.1     v purrr   0.2.4\n",
      "v tibble  1.4.2     v dplyr   0.7.4\n",
      "v tidyr   0.8.0     v stringr 1.3.0\n",
      "v readr   1.1.1     v forcats 0.3.0\n",
      "-- Conflicts ------------------------------------------ tidyverse_conflicts() --\n",
      "x dplyr::filter() masks stats::filter()\n",
      "x dplyr::lag()    masks stats::lag()\n"
     ]
    }
   ],
   "source": [
    "library(tidyverse)"
   ]
  },
  {
   "cell_type": "markdown",
   "metadata": {},
   "source": [
    "# Assignment 1\n",
    "\n",
    "## Data\n",
    "\n",
    "Please read in \"resit.csv\" and check the structure.\n",
    "\n",
    "If needed change the variables e and x1 into a numeric variable.\n",
    "\n",
    "Hint: don't forget you cannot change a factor in a numeric variable directly!\n"
   ]
  },
  {
   "cell_type": "code",
   "execution_count": null,
   "metadata": {},
   "outputs": [],
   "source": []
  },
  {
   "cell_type": "markdown",
   "metadata": {},
   "source": [
    "# Data manipulation\n",
    "\n",
    "We will construct the variable \"y\". You have to create the variable \"y\" with the formula:\n",
    "\n",
    "$$ 10 + 3*x1 + e $$\n",
    "\n",
    "Show the head of your data"
   ]
  },
  {
   "cell_type": "code",
   "execution_count": null,
   "metadata": {},
   "outputs": [],
   "source": []
  },
  {
   "cell_type": "markdown",
   "metadata": {},
   "source": [
    "## Regression \n",
    "\n",
    "You will now have to run a regression with y as a function of x1. Show the summary statistics."
   ]
  },
  {
   "cell_type": "code",
   "execution_count": null,
   "metadata": {},
   "outputs": [],
   "source": []
  },
  {
   "cell_type": "markdown",
   "metadata": {},
   "source": [
    "## Plot\n",
    "\n",
    "Now you have to make a scatter plot of the data:\n",
    "\n",
    "* with x1 on the x-axis\n",
    "* y on the y-axis\n",
    "* the regression line in green, with confidence interval\n",
    "* in a light theme"
   ]
  },
  {
   "cell_type": "code",
   "execution_count": null,
   "metadata": {},
   "outputs": [],
   "source": []
  }
 ],
 "metadata": {
  "kernelspec": {
   "display_name": "R",
   "language": "R",
   "name": "ir"
  },
  "language_info": {
   "codemirror_mode": "r",
   "file_extension": ".r",
   "mimetype": "text/x-r-source",
   "name": "R",
   "pygments_lexer": "r",
   "version": "3.4.3"
  }
 },
 "nbformat": 4,
 "nbformat_minor": 2
}

{
 "cells": [
  {
   "cell_type": "markdown",
   "metadata": {},
   "source": [
    "Before you turn this problem in, make sure everything runs as expected. First, **restart the kernel** (in the menubar, select Kernel$\\rightarrow$Restart) and then **run all cells** (in the menubar, select Cell$\\rightarrow$Run All).\n",
    "\n",
    "Make sure you fill in any place that says `YOUR CODE HERE` or \"YOUR ANSWER HERE\", as well as your name and collaborators below:"
   ]
  },
  {
   "cell_type": "code",
   "execution_count": 57,
   "metadata": {},
   "outputs": [],
   "source": [
    "NAME = \"Jim van den Berg, #2004018#\"\n",
    "COLLABORATORS = \"\""
   ]
  },
  {
   "cell_type": "markdown",
   "metadata": {},
   "source": [
    "---"
   ]
  },
  {
   "cell_type": "markdown",
   "metadata": {
    "deletable": false,
    "editable": false,
    "nbgrader": {
     "checksum": "e53eb7da4b90cccdbeb5924177a0d295",
     "grade": false,
     "grade_id": "cell-bace731f185b39bb",
     "locked": true,
     "schema_version": 1,
     "solution": false
    }
   },
   "source": [
    "Fill in the cell above to provide us with your name and student number, like\n",
    "\n",
    "NAME = \"Adam Smith, #student number#\"\n",
    "\n",
    "where you replace \"#student number#\" with your ... (very good!)\n",
    "\n",
    "Unfortunately, you are not allowed to work with \"COLLABORATORS\" in this exam."
   ]
  },
  {
   "cell_type": "markdown",
   "metadata": {
    "deletable": false,
    "editable": false,
    "nbgrader": {
     "checksum": "517bf84e44d5142a614681acb261dbaf",
     "grade": false,
     "grade_id": "cell-895e9a7b94992ec9",
     "locked": true,
     "schema_version": 1,
     "solution": false
    }
   },
   "source": [
    "# exam October 26th, 2018\n",
    "\n",
    "With this python part of the exam you can earn at max. 4 points.\n",
    "\n"
   ]
  },
  {
   "cell_type": "markdown",
   "metadata": {
    "deletable": false,
    "editable": false,
    "nbgrader": {
     "checksum": "3cec389d2e77633d462f7295d7f70956",
     "grade": false,
     "grade_id": "cell-540987818af25557",
     "locked": true,
     "schema_version": 1,
     "solution": false
    }
   },
   "source": [
    "\n",
    "In the first cell of the notebook, give us your name and student number in the way indicated above. \n",
    "\n",
    "Fill in the notebook (see below for code cells and text cells that you need to fill in).\n",
    "\n",
    "If you look at the menus above (File, Edit, View etc.), there is one called \"Cell\". If you click on this, you can change the \"Cell Type\". Choose \"Code\" when you are typing python or R code. Choose \"Markdown\" when you are typing, well, markdown.\n",
    "\n",
    "When you finish the notebook, make sure that you **save it with the output of your code included**. \n",
    "\n",
    "Then put it on github, e.g. by dragging it onto github (see instructions below). \n",
    "\n",
    "Finally, add a link to your README file with the name of this exam: \"Exam October 26, 2018\".\n",
    "\n"
   ]
  },
  {
   "cell_type": "markdown",
   "metadata": {
    "deletable": false,
    "editable": false,
    "nbgrader": {
     "checksum": "8b9030a739507c0cac97629fc8011ccf",
     "grade": false,
     "grade_id": "cell-e1cf88cb799f1f43",
     "locked": true,
     "schema_version": 1,
     "solution": false
    }
   },
   "source": [
    "## Analyzing functions\n",
    "\n",
    "We start by importing the usual libraries."
   ]
  },
  {
   "cell_type": "code",
   "execution_count": 58,
   "metadata": {
    "deletable": false,
    "editable": false,
    "nbgrader": {
     "checksum": "7bd770ef54db47c3b6c8d0e31f6baef6",
     "grade": false,
     "grade_id": "cell-b895769bf40e183a",
     "locked": true,
     "schema_version": 1,
     "solution": false
    }
   },
   "outputs": [],
   "source": [
    "import matplotlib.pyplot as plt\n",
    "import pandas as pd\n",
    "import numpy as np\n",
    "from scipy import optimize\n",
    "%matplotlib inline"
   ]
  },
  {
   "cell_type": "markdown",
   "metadata": {
    "deletable": false,
    "editable": false,
    "nbgrader": {
     "checksum": "b0001458f8f400aec94dbd2f4291cd05",
     "grade": false,
     "grade_id": "cell-83284c4090d6de8c",
     "locked": true,
     "schema_version": 1,
     "solution": false
    }
   },
   "source": [
    "#### a) [0.5 points] Define a function $f(x) = x^4-2x^2+0.5$."
   ]
  },
  {
   "cell_type": "code",
   "execution_count": 59,
   "metadata": {
    "deletable": false,
    "nbgrader": {
     "checksum": "c6a538c0a85c04ca8d1b721f21b02183",
     "grade": true,
     "grade_id": "cell-7770128c0a989c60",
     "locked": false,
     "points": 0.5,
     "schema_version": 1,
     "solution": true
    }
   },
   "outputs": [],
   "source": [
    "def f(x):\n",
    "    return x**4-2*x**2+0.5"
   ]
  },
  {
   "cell_type": "markdown",
   "metadata": {
    "deletable": false,
    "editable": false,
    "nbgrader": {
     "checksum": "c54c2b07b65dcaf674e640be88b68be9",
     "grade": false,
     "grade_id": "cell-3b8ee172d9950128",
     "locked": true,
     "schema_version": 1,
     "solution": false
    }
   },
   "source": [
    "#### b) [1 point] Plot $f$ as a function of $x$. Experiment a bit with the range of $x$ values for which you plot $f$ such that the important features of $f$ are clearly visible. Put the label $x$ on the horizontal axis and label $f$ on the vertical axis."
   ]
  },
  {
   "cell_type": "code",
   "execution_count": 60,
   "metadata": {
    "deletable": false,
    "nbgrader": {
     "checksum": "6e37628c32359b4e4f914065399bcb41",
     "grade": true,
     "grade_id": "cell-a5e7853f661e19b2",
     "locked": false,
     "points": 1,
     "schema_version": 1,
     "solution": true
    }
   },
   "outputs": [
    {
     "data": {
      "image/png": "[encoded data removed]",
      "text/plain": [
       "<matplotlib.figure.Figure at 0x1d0427d6f98>"
      ]
     },
     "metadata": {},
     "output_type": "display_data"
    }
   ],
   "source": [
    "range_x = np.arange(-10,10.01,0.01)\n",
    "plt.plot(range_x,[f(x) for x in range_x])\n",
    "plt.show()"
   ]
  },
  {
   "cell_type": "markdown",
   "metadata": {
    "deletable": false,
    "editable": false,
    "nbgrader": {
     "checksum": "f288e42db2718f6546a6c10e7187400f",
     "grade": false,
     "grade_id": "cell-4b33762aa4a601fe",
     "locked": true,
     "schema_version": 1,
     "solution": false
    }
   },
   "source": [
    "#### c) [1. point] Calculate numerically the two minima of the function $f$. For which values of $x$ do we have a minimum?"
   ]
  },
  {
   "cell_type": "code",
   "execution_count": null,
   "metadata": {
    "deletable": false,
    "nbgrader": {
     "checksum": "16debdd606d4af967efa09bbca10b9bb",
     "grade": true,
     "grade_id": "cell-5ee215676b91f504",
     "locked": false,
     "points": 1,
     "schema_version": 1,
     "solution": true
    }
   },
   "outputs": [],
   "source": []
  },
  {
   "cell_type": "markdown",
   "metadata": {
    "deletable": false,
    "nbgrader": {
     "checksum": "6bdbb321198a6c00bcf368dbba0b5779",
     "grade": true,
     "grade_id": "cell-6d4c0ac6805dcb2e",
     "locked": false,
     "points": 0,
     "schema_version": 1,
     "solution": true
    }
   },
   "source": [
    "YOUR ANSWER HERE"
   ]
  },
  {
   "cell_type": "markdown",
   "metadata": {
    "deletable": false,
    "editable": false,
    "nbgrader": {
     "checksum": "f9ee61d343f161ef0bda8be0eef87059",
     "grade": false,
     "grade_id": "cell-3cc076ae39753881",
     "locked": true,
     "schema_version": 1,
     "solution": false
    }
   },
   "source": [
    "#### d) [0.5 points] Calculate numerically the local maximum of $f$. For what value of $x$ do we have a local maximum?"
   ]
  },
  {
   "cell_type": "code",
   "execution_count": null,
   "metadata": {
    "deletable": false,
    "nbgrader": {
     "checksum": "6ac5f7f87f79a5a580298b70eb6603c6",
     "grade": true,
     "grade_id": "cell-0f18e4fded25833f",
     "locked": false,
     "points": 0.5,
     "schema_version": 1,
     "solution": true
    }
   },
   "outputs": [],
   "source": []
  },
  {
   "cell_type": "markdown",
   "metadata": {},
   "source": [
    "#### e) [1 point] Calculate numerically for which values of $x$ we have $f(x) = 0$."
   ]
  },
  {
   "cell_type": "code",
   "execution_count": 61,
   "metadata": {
    "deletable": false,
    "nbgrader": {
     "checksum": "0f23770a6c058f433beccc75429b57dc",
     "grade": true,
     "grade_id": "cell-e88dc4842fb2c38c",
     "locked": false,
     "points": 1,
     "schema_version": 1,
     "solution": true
    }
   },
   "outputs": [
    {
     "name": "stdout",
     "output_type": "stream",
     "text": [
      "[-1.30656296  1.30656296]\n"
     ]
    }
   ],
   "source": [
    "print(optimize.fsolve(f,[-10,10]))"
   ]
  },
  {
   "cell_type": "markdown",
   "metadata": {},
   "source": [
    "## Github\n",
    "\n",
    "After you have finished, we need to upload this notebook on github."
   ]
  },
  {
   "cell_type": "markdown",
   "metadata": {},
   "source": [
    "Instructions on how to upload this on github can be found [on this page](http://janboone.github.io/programming-for-economists/github.html). This page has two screencasts: one shows how to drag the notebook onto your github page, the other shows how you can use the command line to upload your notebook.\n"
   ]
  },
  {
   "cell_type": "markdown",
   "metadata": {},
   "source": [
    "Remember to update the README file in your repository to include a link to this notebook on github.\n",
    "\n",
    "\n",
    "The links that you should post start with “github.com/” and are NOT of the form “http://localhost”. Make sure you test your links after uploading."
   ]
  },
  {
   "cell_type": "code",
   "execution_count": null,
   "metadata": {},
   "outputs": [],
   "source": []
  }
 ],
 "metadata": {
  "anaconda-cloud": {},
  "kernelspec": {
   "display_name": "Python 3",
   "language": "python",
   "name": "python3"
  },
  "language_info": {
   "codemirror_mode": {
    "name": "ipython",
    "version": 3
   },
   "file_extension": ".py",
   "mimetype": "text/x-python",
   "name": "python",
   "nbconvert_exporter": "python",
   "pygments_lexer": "ipython3",
   "version": "3.6.4"
  }
 },
 "nbformat": 4,
 "nbformat_minor": 1
}
